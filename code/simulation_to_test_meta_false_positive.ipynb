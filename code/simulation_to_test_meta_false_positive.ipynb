{
 "cells": [
  {
   "cell_type": "markdown",
   "id": "5e6e6835-d1dd-4f66-88fd-f07296cded46",
   "metadata": {},
   "source": [
    "# Simulation test for false positive in metagenomics based taxonomic analysis"
   ]
  },
  {
   "cell_type": "code",
   "execution_count": 6,
   "id": "94ccd75c-e062-457d-be4d-c80acd9dd53e",
   "metadata": {},
   "outputs": [],
   "source": [
    "from Bio import Entrez\n",
    "import os\n",
    "import requests"
   ]
  },
  {
   "cell_type": "code",
   "execution_count": 13,
   "id": "5e386527-cd3c-4181-9de9-515b6b41421f",
   "metadata": {},
   "outputs": [],
   "source": [
    "# Set your email\n",
    "Entrez.email = \"xli@chem.fsu.edu\"\n",
    "\n",
    "# List of RefSeq IDs\n",
    "refseq_ids = [\n",
    "    \"GCF_000204415.1\", \"GCF_000016525.1\", \"GCF_000007345.1\",\n",
    "    \"GCF_000063445.1\", \"GCF_002287195.1\", \"GCF_002310855.1\",\n",
    "    \"GCF_000012325.1\", \"GCF_000967895.1\", \"GCF_009362255.1\",\n",
    "    \"GCF_001653755.1\", \"GCF_000208865.1\", \"GCF_030704535.1\",\n",
    "    \"GCF_000150955.2\", \"GCF_000002765.6\", \"GCF_032362555.1\" ## randomly selected 15 species (5 for bacteria, 5 for archaea, 5 for eukaryota)\n",
    "]\n",
    "# List of RefSeq IDs\n",
    "refseq_ids = [\n",
    "    \"GCF_000063445.1\", \"GCF_002287195.1\", \"GCF_002310855.1\", \"GCF_009362255.1\",\"GCF_000150955.2\", ## randomly selected 15 species (5 for bacteria, 5 for archaea, 5 for eukaryota)\n",
    "]\n",
    "refseq_ids = [\n",
    "    \"GCF_000063445.1\",  ## randomly selected 15 species (5 for bacteria, 5 for archaea, 5 for eukaryota)\n",
    "]\n"
   ]
  },
  {
   "cell_type": "code",
   "execution_count": 8,
   "id": "fe163115-d206-4c54-8bd1-23cf34f5418e",
   "metadata": {},
   "outputs": [],
   "source": [
    "# Output directory\n",
    "output_dir = '/home/xiangpeng/projects/16S_18S/code_for_github/simulation/'\n",
    "os.makedirs(output_dir, exist_ok=True)"
   ]
  },
  {
   "cell_type": "code",
   "execution_count": 5,
   "id": "a2a49966-0f4c-4641-bc99-b5109d932c9b",
   "metadata": {},
   "outputs": [
    {
     "name": "stdout",
     "output_type": "stream",
     "text": [
      "Downloading GCF_000204415.1...\n"
     ]
    },
    {
     "name": "stderr",
     "output_type": "stream",
     "text": [
      "--2024-12-20 17:27:29--  ftp://ftp.ncbi.nlm.nih.gov/genomes/all/GCF/000/204/415/GCF_000204415.1_ASM20441v1/GCF_000204415.1_ASM20441v1_genomic.fna.gz\n",
      "           => ‘/home/xiangpeng/projects/16S_18S/simulation/GCF_000204415.1_ASM20441v1_genomic.fna.gz’\n",
      "Resolving ftp.ncbi.nlm.nih.gov (ftp.ncbi.nlm.nih.gov)... 130.14.250.12, 130.14.250.13, 130.14.250.31, ...\n",
      "Connecting to ftp.ncbi.nlm.nih.gov (ftp.ncbi.nlm.nih.gov)|130.14.250.12|:21... connected.\n",
      "Logging in as anonymous ... "
     ]
    },
    {
     "name": "stdout",
     "output_type": "stream",
     "text": [
      "Downloading GCF_000016525.1...\n"
     ]
    },
    {
     "name": "stderr",
     "output_type": "stream",
     "text": [
      "\n",
      "KeyboardInterrupt\n",
      "\n"
     ]
    }
   ],
   "source": [
    "# Download FASTA files\n",
    "for refseq_id in refseq_ids:\n",
    "    print(f\"Downloading {refseq_id}...\")\n",
    "    try:\n",
    "        # Search and fetch the assembly\n",
    "        handle = Entrez.esearch(db=\"assembly\", term=refseq_id)\n",
    "        record = Entrez.read(handle)\n",
    "        handle.close()\n",
    "        \n",
    "        if record[\"IdList\"]:\n",
    "            assembly_id = record[\"IdList\"][0]\n",
    "            \n",
    "            # Fetch assembly summary\n",
    "            handle = Entrez.esummary(db=\"assembly\", id=assembly_id)\n",
    "            summary = Entrez.read(handle)\n",
    "            handle.close()\n",
    "            \n",
    "            # Get FTP link for FASTA\n",
    "            ftp_path = summary['DocumentSummarySet']['DocumentSummary'][0]['FtpPath_RefSeq']\n",
    "            fasta_url = f\"{ftp_path}/{os.path.basename(ftp_path)}_genomic.fna.gz\"\n",
    "            \n",
    "            # Download the FASTA file\n",
    "            os.system(f\"wget -P {output_dir} {fasta_url}\")\n",
    "        else:\n",
    "            print(f\"RefSeq ID {refseq_id} not found.\")\n",
    "    except Exception as e:\n",
    "        print(f\"Error with {refseq_id}: {e}\")"
   ]
  },
  {
   "cell_type": "code",
   "execution_count": 14,
   "id": "5ccf50b5-1a4f-487e-8cdc-4d8dc2707acb",
   "metadata": {},
   "outputs": [
    {
     "name": "stdout",
     "output_type": "stream",
     "text": [
      "Processing GCF_000063445.1...\n",
      "Downloaded: /home/xiangpeng/projects/16S_18S/simulation/GCF_000063445.1_ASM6344v1_genomic.fna.gz\n"
     ]
    }
   ],
   "source": [
    "# Download FASTA files using HTTPS\n",
    "for refseq_id in refseq_ids:\n",
    "    print(f\"Processing {refseq_id}...\")\n",
    "    try:\n",
    "        # Search and fetch the assembly\n",
    "        handle = Entrez.esearch(db=\"assembly\", term=refseq_id)\n",
    "        record = Entrez.read(handle)\n",
    "        handle.close()\n",
    "\n",
    "        if record[\"IdList\"]:\n",
    "            assembly_id = record[\"IdList\"][0]\n",
    "\n",
    "            # Fetch assembly summary\n",
    "            handle = Entrez.esummary(db=\"assembly\", id=assembly_id)\n",
    "            summary = Entrez.read(handle)\n",
    "            handle.close()\n",
    "\n",
    "            # Get HTTPS link for FASTA\n",
    "            ftp_path = summary['DocumentSummarySet']['DocumentSummary'][0]['FtpPath_RefSeq']\n",
    "            https_path = ftp_path.replace(\"ftp://\", \"https://\")\n",
    "            fasta_url = f\"{https_path}/{os.path.basename(ftp_path)}_genomic.fna.gz\"\n",
    "            \n",
    "            # Download the FASTA file\n",
    "            response = requests.get(fasta_url, stream=True)\n",
    "            if response.status_code == 200:\n",
    "                output_file = os.path.join(output_dir, os.path.basename(fasta_url))\n",
    "                with open(output_file, \"wb\") as f:\n",
    "                    for chunk in response.iter_content(chunk_size=1024):\n",
    "                        f.write(chunk)\n",
    "                print(f\"Downloaded: {output_file}\")\n",
    "            else:\n",
    "                print(f\"Failed to download {refseq_id}: {response.status_code}\")\n",
    "        else:\n",
    "            print(f\"RefSeq ID {refseq_id} not found.\")\n",
    "    except Exception as e:\n",
    "        print(f\"Error with {refseq_id}: {e}\")\n"
   ]
  },
  {
   "cell_type": "markdown",
   "id": "ef5c8877-377e-45a1-9429-b63ae6cbc0c4",
   "metadata": {},
   "source": [
    "```\n",
    "GCF_000002765.6_GCA_000002765_genomic.fna.gz  GCF_000967895.1_ASM96789v1_genomic.fna.gz\n",
    "GCF_000007345.1_ASM734v1_genomic.fna.gz       GCF_001653755.1_ASM165375v1_genomic.fna.gz\n",
    "GCF_000012325.1_ASM1232v1_genomic.fna.gz      GCF_002287195.1_ASM228719v1_genomic.fna.gz\n",
    "GCF_000016525.1_ASM1652v1_genomic.fna.gz      GCF_002310855.1_ASM231085v1_genomic.fna.gz\n",
    "GCF_000063445.1_ASM6344v1_genomic.fna.gz      GCF_009362255.1_ASM936225v1_genomic.fna.gz\n",
    "GCF_000150955.2_ASM15095v2_genomic.fna.gz     GCF_030704535.1_ASM3070453v1_genomic.fna.gz\n",
    "GCF_000204415.1_ASM20441v1_genomic.fna.gz     GCF_032362555.1_ilAmyTran1.1_genomic.fna.gz\n",
    "GCF_000208865.1_ASM20886v2_genomic.fna.gz\n",
    "```"
   ]
  },
  {
   "cell_type": "markdown",
   "id": "eebfd924-29fd-4c39-8fe6-e704d44cc887",
   "metadata": {},
   "source": [
    "Run the following code in command line to generate FASTA silulation files. \n",
    "```\n",
    "art_illumina -i GCF_000002765.6_GCA_000002765_genomic.fna.gz -p -l 150 -m 500 -s 50 -c 1000000 -o GCF_000002765.6\n",
    "art_illumina -i GCF_000967895.1_ASM96789v1_genomic.fna.gz -p -l 150 -m 500 -s 50 -c 1000000 -o GCF_000967895.1\n",
    "art_illumina -i GCF_000007345.1_ASM734v1_genomic.fna.gz -p -l 150 -m 500 -s 50 -c 1000000 -o GCF_000007345.1\n",
    "art_illumina -i GCF_001653755.1_ASM165375v1_genomic.fna.gz -p -l 150 -m 500 -s 50 -c 1000000 -o GCF_001653755.1\n",
    "art_illumina -i GCF_000012325.1_ASM1232v1_genomic.fna.gz -p -l 150 -m 500 -s 50 -c 1000000 -o GCF_000012325.1\n",
    "art_illumina -i GCF_002287195.1_ASM228719v1_genomic.fna.gz -p -l 150 -m 500 -s 50 -c 1000000 -o GCF_002287195.1\n",
    "art_illumina -i GCF_000016525.1_ASM1652v1_genomic.fna.gz -p -l 150 -m 500 -s 50 -c 1000000 -o GCF_000016525.1\n",
    "art_illumina -i GCF_002310855.1_ASM231085v1_genomic.fna.gz -p -l 150 -m 500 -s 50 -c 1000000 -o GCF_002310855.1\n",
    "art_illumina -i GCF_000063445.1_ASM6344v1_genomic.fna.gz -p -l 150 -m 500 -s 50 -c 1000000 -o GCF_000063445.1\n",
    "art_illumina -i GCF_009362255.1_ASM936225v1_genomic.fna.gz -p -l 150 -m 500 -s 50 -c 1000000 -o GCF_009362255.1\n",
    "art_illumina -i GCF_000150955.2_ASM15095v2_genomic.fna.gz -p -l 150 -m 500 -s 50 -c 1000000 -o GCF_000150955.2\n",
    "art_illumina -i GCF_030704535.1_ASM3070453v1_genomic.fna.gz -p -l 150 -m 500 -s 50 -c 1000000 -o GCF_030704535.1\n",
    "art_illumina -i GCF_000204415.1_ASM20441v1_genomic.fna.gz -p -l 150 -m 500 -s 50 -c 1000000 -o GCF_000204415.1\n",
    "art_illumina -i GCF_032362555.1_ilAmyTran1.1_genomic.fna.gz -p -l 150 -m 500 -s 50 -c 1000000 -o GCF_032362555.1\n",
    "art_illumina -i GCF_000208865.1_ASM20886v2_genomic.fna.gz -p -l 150 -m 500 -s 50 -c 1000000 -o GCF_000208865.1\n"
   ]
  },
  {
   "cell_type": "code",
   "execution_count": null,
   "id": "c7fb0bc9-5191-48ef-becb-11bd7abae6f1",
   "metadata": {},
   "outputs": [],
   "source": []
  }
 ],
 "metadata": {
  "kernelspec": {
   "display_name": "Python 3 (ipykernel)",
   "language": "python",
   "name": "python3"
  },
  "language_info": {
   "codemirror_mode": {
    "name": "ipython",
    "version": 3
   },
   "file_extension": ".py",
   "mimetype": "text/x-python",
   "name": "python",
   "nbconvert_exporter": "python",
   "pygments_lexer": "ipython3",
   "version": "3.9.20"
  }
 },
 "nbformat": 4,
 "nbformat_minor": 5
}
