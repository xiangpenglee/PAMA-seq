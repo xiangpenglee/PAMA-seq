{
 "cells": [
  {
   "cell_type": "code",
   "execution_count": 16,
   "id": "60472208-5da4-4e48-ae80-a5dde11bf3d5",
   "metadata": {},
   "outputs": [
    {
     "data": {
      "text/html": [
       "<strong>pdf:</strong> 2"
      ],
      "text/latex": [
       "\\textbf{pdf:} 2"
      ],
      "text/markdown": [
       "**pdf:** 2"
      ],
      "text/plain": [
       "pdf \n",
       "  2 "
      ]
     },
     "metadata": {},
     "output_type": "display_data"
    }
   ],
   "source": [
    "# Load the ggVennDiagram package\n",
    "library(ggVennDiagram)\n",
    "\n",
    "\n",
    "\n",
    "# Read the CSV file into R\n",
    "sets <- read.csv(\"/home/xiangpeng/projects/16S_18S/code_for_github/data/ocean/meta_pam_venndiagram.csv\")\n",
    "\n",
    "# Define the sets\n",
    "kaiju_set <- unique(sets$Kaiju)\n",
    "nt_set <- unique(sets$CZID.nt)\n",
    "nr_set <- unique(sets$CZID.nr)\n",
    "pam_set <- unique(sets$PAM.seq)\n",
    "\n",
    "# Create a list of sets for ggVennDiagram\n",
    "set_list <- list(\n",
    "  Kaiju = kaiju_set,\n",
    "  CZID_nt = nt_set,\n",
    "  CZID_nr = nr_set,\n",
    "  PAM_seq = pam_set\n",
    ")\n",
    "pdf(\"/home/xiangpeng/projects/16S_18S/code_for_github/output/ocean//venn_diagram.pdf\", width = 8, height = 8)\n",
    "# Plot the Venn diagram\n",
    "ggVennDiagram(set_list)\n",
    "# Close the PDF device to save the file\n",
    "dev.off()"
   ]
  },
  {
   "cell_type": "code",
   "execution_count": 15,
   "id": "ce2a3f88-8840-4817-9333-423e18b73634",
   "metadata": {},
   "outputs": [
    {
     "data": {
      "text/html": [
       "<strong>pdf:</strong> 2"
      ],
      "text/latex": [
       "\\textbf{pdf:} 2"
      ],
      "text/markdown": [
       "**pdf:** 2"
      ],
      "text/plain": [
       "pdf \n",
       "  2 "
      ]
     },
     "metadata": {},
     "output_type": "display_data"
    }
   ],
   "source": [
    "# Load the necessary library\n",
    "library(venn)\n",
    "# Read the CSV file into R\n",
    "sets <- read.csv(\"/home/xiangpeng/projects/16S_18S/code_for_github/data/ocean/meta_pam_venndiagram.csv\")\n",
    "# Define the sets\n",
    "kaiju_set <- unique(sets$Kaiju)\n",
    "nt_set <- unique(sets$CZID.nt)\n",
    "nr_set <- unique(sets$CZID.nr)\n",
    "pam_set <- unique(sets$PAM.seq)\n",
    "\n",
    "# Create a list of sets for the venn function\n",
    "set_list <- list(\n",
    "  Kaiju = kaiju_set,\n",
    "  CZID_nt = nt_set,\n",
    "  CZID_nr = nr_set,\n",
    "  PAM_seq = pam_set\n",
    ")\n",
    "\n",
    "# Save the plot to a PDF file\n",
    "pdf(\"/home/xiangpeng/projects/16S_18S/code_for_github/output/ocean/venn_diagram_v2.pdf\", width = 8, height = 8)\n",
    "\n",
    "# Create the Venn diagram\n",
    "venn(set_list)\n",
    "\n",
    "# Close the PDF device to save the file\n",
    "dev.off()\n"
   ]
  },
  {
   "cell_type": "code",
   "execution_count": null,
   "id": "508c81b1-6939-47fc-9505-05950fd01a95",
   "metadata": {},
   "outputs": [],
   "source": []
  }
 ],
 "metadata": {
  "kernelspec": {
   "display_name": "R",
   "language": "R",
   "name": "ir"
  },
  "language_info": {
   "codemirror_mode": "r",
   "file_extension": ".r",
   "mimetype": "text/x-r-source",
   "name": "R",
   "pygments_lexer": "r",
   "version": "4.3.1"
  }
 },
 "nbformat": 4,
 "nbformat_minor": 5
}
